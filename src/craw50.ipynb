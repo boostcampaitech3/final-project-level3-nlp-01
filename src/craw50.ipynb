{
 "cells": [
  {
   "cell_type": "code",
   "execution_count": 1,
   "metadata": {},
   "outputs": [],
   "source": [
    "from crawler_year import MusicLyricsCrawler\n",
    "\n",
    "MC = MusicLyricsCrawler()"
   ]
  },
  {
   "cell_type": "code",
   "execution_count": 2,
   "metadata": {},
   "outputs": [
    {
     "name": "stdout",
     "output_type": "stream",
     "text": [
      "Initialize Drive\n",
      "Start parsing\n"
     ]
    },
    {
     "ename": "NoSuchElementException",
     "evalue": "Message: no such element: Unable to locate element: {\"method\":\"css selector\",\"selector\":\".lyric\"}\n  (Session info: chrome=102.0.5005.61)\nStacktrace:\n0   chromedriver                        0x0000000102d009a0 chromedriver + 4426144\n1   chromedriver                        0x0000000102c9a798 chromedriver + 4007832\n2   chromedriver                        0x00000001028f6cc4 chromedriver + 191684\n3   chromedriver                        0x00000001029258d4 chromedriver + 383188\n4   chromedriver                        0x000000010294e648 chromedriver + 550472\n5   chromedriver                        0x000000010291acf4 chromedriver + 339188\n6   chromedriver                        0x0000000102cd77d0 chromedriver + 4257744\n7   chromedriver                        0x0000000102cdb580 chromedriver + 4273536\n8   chromedriver                        0x0000000102cdf6c4 chromedriver + 4290244\n9   chromedriver                        0x0000000102cdbcf8 chromedriver + 4275448\n10  chromedriver                        0x0000000102cbbb38 chromedriver + 4143928\n11  chromedriver                        0x0000000102cf321c chromedriver + 4370972\n12  chromedriver                        0x0000000102cf3380 chromedriver + 4371328\n13  chromedriver                        0x0000000102d07154 chromedriver + 4452692\n14  libsystem_pthread.dylib             0x00000001aed7426c _pthread_start + 148\n15  libsystem_pthread.dylib             0x00000001aed6f08c thread_start + 8\n",
     "output_type": "error",
     "traceback": [
      "\u001b[0;31m---------------------------------------------------------------------------\u001b[0m",
      "\u001b[0;31mNoSuchElementException\u001b[0m                    Traceback (most recent call last)",
      "\u001b[1;32m/Users/yejin/Yejin_drive/VSC_projects/final-project-level3-nlp-01/src/craw50.ipynb Cell 2'\u001b[0m in \u001b[0;36m<module>\u001b[0;34m\u001b[0m\n\u001b[0;32m----> <a href='vscode-notebook-cell:/Users/yejin/Yejin_drive/VSC_projects/final-project-level3-nlp-01/src/craw50.ipynb#ch0000006?line=0'>1</a>\u001b[0m MC\u001b[39m.\u001b[39;49mcrawl()\n",
      "File \u001b[0;32m~/Yejin_drive/VSC_projects/final-project-level3-nlp-01/src/crawler_year.py:19\u001b[0m, in \u001b[0;36mMusicLyricsCrawler.crawl\u001b[0;34m(self)\u001b[0m\n\u001b[1;32m     <a href='file:///Users/yejin/Yejin_drive/VSC_projects/final-project-level3-nlp-01/src/crawler_year.py?line=15'>16</a>\u001b[0m driver \u001b[39m=\u001b[39m \u001b[39mself\u001b[39m\u001b[39m.\u001b[39minitDrive(music_url)\n\u001b[1;32m     <a href='file:///Users/yejin/Yejin_drive/VSC_projects/final-project-level3-nlp-01/src/crawler_year.py?line=17'>18</a>\u001b[0m \u001b[39mprint\u001b[39m(\u001b[39m'\u001b[39m\u001b[39mStart parsing\u001b[39m\u001b[39m'\u001b[39m)\n\u001b[0;32m---> <a href='file:///Users/yejin/Yejin_drive/VSC_projects/final-project-level3-nlp-01/src/crawler_year.py?line=18'>19</a>\u001b[0m data \u001b[39m=\u001b[39m \u001b[39mself\u001b[39;49m\u001b[39m.\u001b[39;49mparse(driver)\n\u001b[1;32m     <a href='file:///Users/yejin/Yejin_drive/VSC_projects/final-project-level3-nlp-01/src/crawler_year.py?line=20'>21</a>\u001b[0m \u001b[39mprint\u001b[39m(\u001b[39m'\u001b[39m\u001b[39mdata 수:\u001b[39m\u001b[39m'\u001b[39m, \u001b[39mlen\u001b[39m(data))\n\u001b[1;32m     <a href='file:///Users/yejin/Yejin_drive/VSC_projects/final-project-level3-nlp-01/src/crawler_year.py?line=22'>23</a>\u001b[0m \u001b[39mprint\u001b[39m(\u001b[39m'\u001b[39m\u001b[39mSave to csv\u001b[39m\u001b[39m'\u001b[39m)\n",
      "File \u001b[0;32m~/Yejin_drive/VSC_projects/final-project-level3-nlp-01/src/crawler_year.py:71\u001b[0m, in \u001b[0;36mMusicLyricsCrawler.parse\u001b[0;34m(self, driver)\u001b[0m\n\u001b[1;32m     <a href='file:///Users/yejin/Yejin_drive/VSC_projects/final-project-level3-nlp-01/src/crawler_year.py?line=68'>69</a>\u001b[0m         Lyric\u001b[39m.\u001b[39mappend(\u001b[39m'\u001b[39m\u001b[39m'\u001b[39m)\n\u001b[1;32m     <a href='file:///Users/yejin/Yejin_drive/VSC_projects/final-project-level3-nlp-01/src/crawler_year.py?line=69'>70</a>\u001b[0m         \u001b[39mcontinue\u001b[39;00m\n\u001b[0;32m---> <a href='file:///Users/yejin/Yejin_drive/VSC_projects/final-project-level3-nlp-01/src/crawler_year.py?line=70'>71</a>\u001b[0m     lyric \u001b[39m=\u001b[39m driver\u001b[39m.\u001b[39;49mfind_element_by_class_name(\u001b[39m'\u001b[39;49m\u001b[39mlyric\u001b[39;49m\u001b[39m'\u001b[39;49m)\n\u001b[1;32m     <a href='file:///Users/yejin/Yejin_drive/VSC_projects/final-project-level3-nlp-01/src/crawler_year.py?line=71'>72</a>\u001b[0m     Lyric\u001b[39m.\u001b[39mappend(lyric\u001b[39m.\u001b[39mtext)\n\u001b[1;32m     <a href='file:///Users/yejin/Yejin_drive/VSC_projects/final-project-level3-nlp-01/src/crawler_year.py?line=73'>74</a>\u001b[0m \u001b[39mprint\u001b[39m(\u001b[39m\"\u001b[39m\u001b[39mtitle : \u001b[39m\u001b[39m\"\u001b[39m, \u001b[39mlen\u001b[39m(titles2), \u001b[39m\"\u001b[39m\u001b[39m, singer : \u001b[39m\u001b[39m\"\u001b[39m, \u001b[39mlen\u001b[39m(singers2), \u001b[39m\"\u001b[39m\u001b[39m, lytic : \u001b[39m\u001b[39m\"\u001b[39m, \u001b[39mlen\u001b[39m(Lyric))\n",
      "File \u001b[0;32m~/miniconda3/lib/python3.8/site-packages/selenium/webdriver/remote/webdriver.py:766\u001b[0m, in \u001b[0;36mWebDriver.find_element_by_class_name\u001b[0;34m(self, name)\u001b[0m\n\u001b[1;32m    <a href='file:///Users/yejin/miniconda3/lib/python3.8/site-packages/selenium/webdriver/remote/webdriver.py?line=743'>744</a>\u001b[0m \u001b[39m\"\"\"\u001b[39;00m\n\u001b[1;32m    <a href='file:///Users/yejin/miniconda3/lib/python3.8/site-packages/selenium/webdriver/remote/webdriver.py?line=744'>745</a>\u001b[0m \u001b[39mFinds an element by class name.\u001b[39;00m\n\u001b[1;32m    <a href='file:///Users/yejin/miniconda3/lib/python3.8/site-packages/selenium/webdriver/remote/webdriver.py?line=745'>746</a>\u001b[0m \n\u001b[0;32m   (...)\u001b[0m\n\u001b[1;32m    <a href='file:///Users/yejin/miniconda3/lib/python3.8/site-packages/selenium/webdriver/remote/webdriver.py?line=758'>759</a>\u001b[0m \u001b[39m        element = driver.find_element_by_class_name('foo')\u001b[39;00m\n\u001b[1;32m    <a href='file:///Users/yejin/miniconda3/lib/python3.8/site-packages/selenium/webdriver/remote/webdriver.py?line=759'>760</a>\u001b[0m \u001b[39m\"\"\"\u001b[39;00m\n\u001b[1;32m    <a href='file:///Users/yejin/miniconda3/lib/python3.8/site-packages/selenium/webdriver/remote/webdriver.py?line=760'>761</a>\u001b[0m warnings\u001b[39m.\u001b[39mwarn(\n\u001b[1;32m    <a href='file:///Users/yejin/miniconda3/lib/python3.8/site-packages/selenium/webdriver/remote/webdriver.py?line=761'>762</a>\u001b[0m     \u001b[39m\"\u001b[39m\u001b[39mfind_element_by_class_name is deprecated. Please use find_element(by=By.CLASS_NAME, value=name) instead\u001b[39m\u001b[39m\"\u001b[39m,\n\u001b[1;32m    <a href='file:///Users/yejin/miniconda3/lib/python3.8/site-packages/selenium/webdriver/remote/webdriver.py?line=762'>763</a>\u001b[0m     \u001b[39mDeprecationWarning\u001b[39;00m,\n\u001b[1;32m    <a href='file:///Users/yejin/miniconda3/lib/python3.8/site-packages/selenium/webdriver/remote/webdriver.py?line=763'>764</a>\u001b[0m     stacklevel\u001b[39m=\u001b[39m\u001b[39m2\u001b[39m,\n\u001b[1;32m    <a href='file:///Users/yejin/miniconda3/lib/python3.8/site-packages/selenium/webdriver/remote/webdriver.py?line=764'>765</a>\u001b[0m )\n\u001b[0;32m--> <a href='file:///Users/yejin/miniconda3/lib/python3.8/site-packages/selenium/webdriver/remote/webdriver.py?line=765'>766</a>\u001b[0m \u001b[39mreturn\u001b[39;00m \u001b[39mself\u001b[39;49m\u001b[39m.\u001b[39;49mfind_element(by\u001b[39m=\u001b[39;49mBy\u001b[39m.\u001b[39;49mCLASS_NAME, value\u001b[39m=\u001b[39;49mname)\n",
      "File \u001b[0;32m~/miniconda3/lib/python3.8/site-packages/selenium/webdriver/remote/webdriver.py:1251\u001b[0m, in \u001b[0;36mWebDriver.find_element\u001b[0;34m(self, by, value)\u001b[0m\n\u001b[1;32m   <a href='file:///Users/yejin/miniconda3/lib/python3.8/site-packages/selenium/webdriver/remote/webdriver.py?line=1247'>1248</a>\u001b[0m     by \u001b[39m=\u001b[39m By\u001b[39m.\u001b[39mCSS_SELECTOR\n\u001b[1;32m   <a href='file:///Users/yejin/miniconda3/lib/python3.8/site-packages/selenium/webdriver/remote/webdriver.py?line=1248'>1249</a>\u001b[0m     value \u001b[39m=\u001b[39m \u001b[39m'\u001b[39m\u001b[39m[name=\u001b[39m\u001b[39m\"\u001b[39m\u001b[39m%s\u001b[39;00m\u001b[39m\"\u001b[39m\u001b[39m]\u001b[39m\u001b[39m'\u001b[39m \u001b[39m%\u001b[39m value\n\u001b[0;32m-> <a href='file:///Users/yejin/miniconda3/lib/python3.8/site-packages/selenium/webdriver/remote/webdriver.py?line=1250'>1251</a>\u001b[0m \u001b[39mreturn\u001b[39;00m \u001b[39mself\u001b[39;49m\u001b[39m.\u001b[39;49mexecute(Command\u001b[39m.\u001b[39;49mFIND_ELEMENT, {\n\u001b[1;32m   <a href='file:///Users/yejin/miniconda3/lib/python3.8/site-packages/selenium/webdriver/remote/webdriver.py?line=1251'>1252</a>\u001b[0m     \u001b[39m'\u001b[39;49m\u001b[39musing\u001b[39;49m\u001b[39m'\u001b[39;49m: by,\n\u001b[1;32m   <a href='file:///Users/yejin/miniconda3/lib/python3.8/site-packages/selenium/webdriver/remote/webdriver.py?line=1252'>1253</a>\u001b[0m     \u001b[39m'\u001b[39;49m\u001b[39mvalue\u001b[39;49m\u001b[39m'\u001b[39;49m: value})[\u001b[39m'\u001b[39m\u001b[39mvalue\u001b[39m\u001b[39m'\u001b[39m]\n",
      "File \u001b[0;32m~/miniconda3/lib/python3.8/site-packages/selenium/webdriver/remote/webdriver.py:430\u001b[0m, in \u001b[0;36mWebDriver.execute\u001b[0;34m(self, driver_command, params)\u001b[0m\n\u001b[1;32m    <a href='file:///Users/yejin/miniconda3/lib/python3.8/site-packages/selenium/webdriver/remote/webdriver.py?line=427'>428</a>\u001b[0m response \u001b[39m=\u001b[39m \u001b[39mself\u001b[39m\u001b[39m.\u001b[39mcommand_executor\u001b[39m.\u001b[39mexecute(driver_command, params)\n\u001b[1;32m    <a href='file:///Users/yejin/miniconda3/lib/python3.8/site-packages/selenium/webdriver/remote/webdriver.py?line=428'>429</a>\u001b[0m \u001b[39mif\u001b[39;00m response:\n\u001b[0;32m--> <a href='file:///Users/yejin/miniconda3/lib/python3.8/site-packages/selenium/webdriver/remote/webdriver.py?line=429'>430</a>\u001b[0m     \u001b[39mself\u001b[39;49m\u001b[39m.\u001b[39;49merror_handler\u001b[39m.\u001b[39;49mcheck_response(response)\n\u001b[1;32m    <a href='file:///Users/yejin/miniconda3/lib/python3.8/site-packages/selenium/webdriver/remote/webdriver.py?line=430'>431</a>\u001b[0m     response[\u001b[39m'\u001b[39m\u001b[39mvalue\u001b[39m\u001b[39m'\u001b[39m] \u001b[39m=\u001b[39m \u001b[39mself\u001b[39m\u001b[39m.\u001b[39m_unwrap_value(\n\u001b[1;32m    <a href='file:///Users/yejin/miniconda3/lib/python3.8/site-packages/selenium/webdriver/remote/webdriver.py?line=431'>432</a>\u001b[0m         response\u001b[39m.\u001b[39mget(\u001b[39m'\u001b[39m\u001b[39mvalue\u001b[39m\u001b[39m'\u001b[39m, \u001b[39mNone\u001b[39;00m))\n\u001b[1;32m    <a href='file:///Users/yejin/miniconda3/lib/python3.8/site-packages/selenium/webdriver/remote/webdriver.py?line=432'>433</a>\u001b[0m     \u001b[39mreturn\u001b[39;00m response\n",
      "File \u001b[0;32m~/miniconda3/lib/python3.8/site-packages/selenium/webdriver/remote/errorhandler.py:247\u001b[0m, in \u001b[0;36mErrorHandler.check_response\u001b[0;34m(self, response)\u001b[0m\n\u001b[1;32m    <a href='file:///Users/yejin/miniconda3/lib/python3.8/site-packages/selenium/webdriver/remote/errorhandler.py?line=244'>245</a>\u001b[0m         alert_text \u001b[39m=\u001b[39m value[\u001b[39m'\u001b[39m\u001b[39malert\u001b[39m\u001b[39m'\u001b[39m]\u001b[39m.\u001b[39mget(\u001b[39m'\u001b[39m\u001b[39mtext\u001b[39m\u001b[39m'\u001b[39m)\n\u001b[1;32m    <a href='file:///Users/yejin/miniconda3/lib/python3.8/site-packages/selenium/webdriver/remote/errorhandler.py?line=245'>246</a>\u001b[0m     \u001b[39mraise\u001b[39;00m exception_class(message, screen, stacktrace, alert_text)  \u001b[39m# type: ignore[call-arg]  # mypy is not smart enough here\u001b[39;00m\n\u001b[0;32m--> <a href='file:///Users/yejin/miniconda3/lib/python3.8/site-packages/selenium/webdriver/remote/errorhandler.py?line=246'>247</a>\u001b[0m \u001b[39mraise\u001b[39;00m exception_class(message, screen, stacktrace)\n",
      "\u001b[0;31mNoSuchElementException\u001b[0m: Message: no such element: Unable to locate element: {\"method\":\"css selector\",\"selector\":\".lyric\"}\n  (Session info: chrome=102.0.5005.61)\nStacktrace:\n0   chromedriver                        0x0000000102d009a0 chromedriver + 4426144\n1   chromedriver                        0x0000000102c9a798 chromedriver + 4007832\n2   chromedriver                        0x00000001028f6cc4 chromedriver + 191684\n3   chromedriver                        0x00000001029258d4 chromedriver + 383188\n4   chromedriver                        0x000000010294e648 chromedriver + 550472\n5   chromedriver                        0x000000010291acf4 chromedriver + 339188\n6   chromedriver                        0x0000000102cd77d0 chromedriver + 4257744\n7   chromedriver                        0x0000000102cdb580 chromedriver + 4273536\n8   chromedriver                        0x0000000102cdf6c4 chromedriver + 4290244\n9   chromedriver                        0x0000000102cdbcf8 chromedriver + 4275448\n10  chromedriver                        0x0000000102cbbb38 chromedriver + 4143928\n11  chromedriver                        0x0000000102cf321c chromedriver + 4370972\n12  chromedriver                        0x0000000102cf3380 chromedriver + 4371328\n13  chromedriver                        0x0000000102d07154 chromedriver + 4452692\n14  libsystem_pthread.dylib             0x00000001aed7426c _pthread_start + 148\n15  libsystem_pthread.dylib             0x00000001aed6f08c thread_start + 8\n"
     ]
    }
   ],
   "source": [
    "MC.crawl()"
   ]
  },
  {
   "cell_type": "code",
   "execution_count": null,
   "metadata": {},
   "outputs": [],
   "source": []
  }
 ],
 "metadata": {
  "interpreter": {
   "hash": "c40fc0dabaa44856a7ea2aaace631e92d758e85cb3e5626f690455fc0714b666"
  },
  "kernelspec": {
   "display_name": "Python 3.8.11 ('base')",
   "language": "python",
   "name": "python3"
  },
  "language_info": {
   "codemirror_mode": {
    "name": "ipython",
    "version": 3
   },
   "file_extension": ".py",
   "mimetype": "text/x-python",
   "name": "python",
   "nbconvert_exporter": "python",
   "pygments_lexer": "ipython3",
   "version": "3.8.11"
  },
  "orig_nbformat": 4
 },
 "nbformat": 4,
 "nbformat_minor": 2
}
