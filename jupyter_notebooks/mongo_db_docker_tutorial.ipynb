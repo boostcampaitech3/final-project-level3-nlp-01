{
 "cells": [
  {
   "cell_type": "markdown",
   "id": "20ef3261",
   "metadata": {},
   "source": [
    "# MongoDB Docker Tutorial"
   ]
  },
  {
   "cell_type": "markdown",
   "id": "10cdea0d",
   "metadata": {},
   "source": [
    "## 1. MongoDB Docker \n",
    "\n",
    "- https://poiemaweb.com/docker-mongodb\n",
    "- https://www.bmc.com/blogs/mongodb-docker-container/\n",
    "\n",
    "```bash\n",
    "# MongoDB image 다운로드\n",
    "$ docker pull mongo\n",
    "\n",
    "# MongoDB image 확인\n",
    "$ docker images\n",
    "\n",
    "# MongoDB Container 구동\n",
    "$ docker run --name mongodb-container -v ~/data_db:/data/db -d -p 27017:27017 mongo\n",
    "\n",
    "# MongoDB Docker 컨테이너 중지\n",
    "$ docker stop mongodb-container\n",
    "\n",
    "# MongoDB Docker 컨테이너 시작\n",
    "$ docker start mongodb-container\n",
    "\n",
    "# MongoDB Docker 컨테이너 재시작\n",
    "$ docker restart mongodb-container\n",
    "\n",
    "# MongoDB Docker 컨테이너 접속\n",
    "$ docker exec -it mongodb-container bash\n",
    "```"
   ]
  },
  {
   "cell_type": "markdown",
   "id": "0fa23688",
   "metadata": {},
   "source": [
    "## 2. MongDB Basics & Shell Commands \n",
    "- Database > Collections > Documents\n",
    "- Database\n",
    "    - In MongoDB, a database contains the collections of documents. One can create multiple databases on the MongoDB server.  \n",
    "    \n",
    "- Collections\n",
    "    - Collections are just like tables in relational databases, they also store data, but in the form of documents. A single database is allowed to store multiple collections. \n",
    "    \n",
    "- Schemaless:\n",
    "    - As we know that MongoDB databases are schemaless. So, it is not necessary in a collection that the schema of one document is similar to another document. Or in other words, a single collection contains different types of documents.\n",
    "    \n",
    "- Documetns\n",
    "    - In MongoDB, the data records are stored as BSON documents. Here, BSON stands for binary representation of JSON documents, although BSON contains more data types as compared to JSON. The document is created using field-value pairs or key-value pairs and the value of the field can be of any BSON type. \n",
    "    \n",
    "- ref. https://www.geeksforgeeks.org/mongodb-database-collection-and-document/\n",
    "    \n",
    "```bash\n",
    "# Docker Container 에서 mongo db 접속\n",
    "mongo \n",
    "\n",
    "# mongodb database 확인\n",
    "show dbs\n",
    "\n",
    "# test3 database 생성 및 전환 (실제 생성 시점은 database에 content가 있을때) \n",
    "use test3\n",
    "\n",
    "# test3 database에서 'phil' collection 생성 document 저장 \n",
    "db.phil.insertOne({\"hello\" : ['hi','sad','happy'], '_id' : '0'})\n",
    "db.phil.insertOne({\"hello\" : ['hi','sad','happy','for real?'], '_id' : '1'})\n",
    "\n",
    "# document 확인 \n",
    "db.phil.find();\n",
    "\n",
    "# id 로 찾기 \n",
    "db.phil.find({'_id' : \"0\"})\n",
    "db.phil.find({'_id' : \"1\"})\n",
    "```"
   ]
  },
  {
   "cell_type": "markdown",
   "id": "e2b79554",
   "metadata": {},
   "source": [
    "## 3. PyMongo 설치\n",
    "\n",
    "```bash\n",
    "$ pip install pymongo\n",
    "```"
   ]
  },
  {
   "cell_type": "markdown",
   "id": "5b8b24a2",
   "metadata": {},
   "source": [
    "## 4. Python MongoDB Client\n",
    "\n",
    "```python\n",
    "from pymongo import MongoClient\n",
    "\n",
    "# 방법1 - URI\n",
    "mongodb_URI = \"mongodb://localhost:27017/\"\n",
    "client = MongoClient(mongodb_URI)\n",
    "\n",
    "# 방법2 - HOST, PORT\n",
    "client = MongoClient(host='localhost', port=27017)\n",
    "```\n"
   ]
  },
  {
   "cell_type": "markdown",
   "id": "cbb97791",
   "metadata": {},
   "source": [
    "## 5. Python MongoDB Apis\n"
   ]
  },
  {
   "cell_type": "code",
   "execution_count": 26,
   "id": "f43b93db",
   "metadata": {},
   "outputs": [],
   "source": [
    "from pymongo import MongoClient\n",
    "\n",
    "client = MongoClient(host='localhost', port=27017)"
   ]
  },
  {
   "cell_type": "code",
   "execution_count": 27,
   "id": "bb7b77b7",
   "metadata": {},
   "outputs": [
    {
     "name": "stdout",
     "output_type": "stream",
     "text": [
      "{'name': 'admin', 'sizeOnDisk': 40960, 'empty': False}\n",
      "{'name': 'config', 'sizeOnDisk': 110592, 'empty': False}\n",
      "{'name': 'local', 'sizeOnDisk': 40960, 'empty': False}\n",
      "{'name': 'test', 'sizeOnDisk': 40960, 'empty': False}\n",
      "{'name': 'test2', 'sizeOnDisk': 40960, 'empty': False}\n",
      "{'name': 'test3', 'sizeOnDisk': 73728, 'empty': False}\n"
     ]
    }
   ],
   "source": [
    "# MongoDB Database 확인\n",
    "for db in client.list_databases():\n",
    "    print(db)"
   ]
  },
  {
   "cell_type": "markdown",
   "id": "67a45f83",
   "metadata": {},
   "source": [
    "### 5.1. Database & Collection 생성 및 삭제"
   ]
  },
  {
   "cell_type": "code",
   "execution_count": 28,
   "id": "7ee13efd",
   "metadata": {},
   "outputs": [],
   "source": [
    "# MongoDB Database 생성\n",
    "\n",
    "# 실제 database 생성 시점은 data가 database에 존재해야함\n",
    "db = client[\"test2\"]\n",
    "\n",
    "# collection 생성\n",
    "col = db[\"test\"]\n",
    "\n",
    "# document 생성\n",
    "doc = {\"hello\" : \"world\", \"hi\" : \"world\"}\n",
    "\n",
    "# document mongodb \n",
    "x = col.insert_one(doc)"
   ]
  },
  {
   "cell_type": "code",
   "execution_count": 29,
   "id": "f6a37b46",
   "metadata": {},
   "outputs": [
    {
     "name": "stdout",
     "output_type": "stream",
     "text": [
      "{'name': 'admin', 'sizeOnDisk': 40960, 'empty': False}\n",
      "{'name': 'config', 'sizeOnDisk': 110592, 'empty': False}\n",
      "{'name': 'local', 'sizeOnDisk': 40960, 'empty': False}\n",
      "{'name': 'test', 'sizeOnDisk': 40960, 'empty': False}\n",
      "{'name': 'test2', 'sizeOnDisk': 40960, 'empty': False}\n",
      "{'name': 'test3', 'sizeOnDisk': 73728, 'empty': False}\n"
     ]
    }
   ],
   "source": [
    "# \"test\" DB 생성 확인\n",
    "for db in client.list_databases():\n",
    "    print(db)"
   ]
  },
  {
   "cell_type": "code",
   "execution_count": 31,
   "id": "17f21ba7",
   "metadata": {},
   "outputs": [
    {
     "name": "stdout",
     "output_type": "stream",
     "text": [
      "List of databases before deletion\n",
      "--------------------------\n",
      "admin\n",
      "config\n",
      "local\n",
      "test\n",
      "test2\n",
      "test3\n",
      "\n",
      "List of databases after deletion\n",
      "--------------------------\n",
      "admin\n",
      "config\n",
      "local\n",
      "test2\n",
      "test3\n"
     ]
    }
   ],
   "source": [
    "# MongoDB 'test' Database 삭제\n",
    "\n",
    "print(\"List of databases before deletion\\n--------------------------\")\n",
    "for x in client.list_database_names():\n",
    "  print(x)\n",
    "  \n",
    "#delete database named 'test'\n",
    "client.drop_database('test')\n",
    "\n",
    "print(\"\\nList of databases after deletion\\n--------------------------\")\n",
    "for x in client.list_database_names():\n",
    "  print(x)\n"
   ]
  },
  {
   "cell_type": "code",
   "execution_count": 32,
   "id": "4b7b29b2",
   "metadata": {},
   "outputs": [
    {
     "name": "stdout",
     "output_type": "stream",
     "text": [
      "List of collections\n",
      "--------------------\n",
      "phil\n"
     ]
    }
   ],
   "source": [
    "# MongoDB 'test3' Database Collection 확인\n",
    "mydb = client['test3']\n",
    "\n",
    "print(\"List of collections\\n--------------------\")\n",
    "#list the collections\n",
    "for coll in mydb.list_collection_names():\n",
    "    print(coll)"
   ]
  },
  {
   "cell_type": "code",
   "execution_count": 33,
   "id": "e6ff41a3",
   "metadata": {},
   "outputs": [
    {
     "data": {
      "text/plain": [
       "<pymongo.results.InsertOneResult at 0x7f9b803d0f10>"
      ]
     },
     "execution_count": 33,
     "metadata": {},
     "output_type": "execute_result"
    }
   ],
   "source": [
    "# MongoDB 'test3' Database phil2 Collection 추가\n",
    "col2 = mydb['phil2']\n",
    "doc2 = {\"hello\" : ['hi','sad','happy','for real?'], '_id' : '0', 'hihi' : 'real'}\n",
    "col2.insert_one(doc2)"
   ]
  },
  {
   "cell_type": "code",
   "execution_count": 35,
   "id": "58193a02",
   "metadata": {},
   "outputs": [
    {
     "name": "stdout",
     "output_type": "stream",
     "text": [
      "List of collections\n",
      "--------------------\n",
      "phil\n",
      "phil2\n"
     ]
    }
   ],
   "source": [
    "print(\"List of collections\\n--------------------\")\n",
    "for coll in mydb.list_collection_names():\n",
    "    print(coll)"
   ]
  },
  {
   "cell_type": "code",
   "execution_count": 36,
   "id": "93feb4a2",
   "metadata": {},
   "outputs": [
    {
     "name": "stdout",
     "output_type": "stream",
     "text": [
      "List of collections before deletion\n",
      "--------------------------\n",
      "phil\n",
      "phil2\n",
      "\n",
      "List of collections after deletion\n",
      "--------------------------\n",
      "phil\n"
     ]
    }
   ],
   "source": [
    "# MongoDB 'test3' Database phil2 Collection 삭제 \n",
    "print(\"List of collections before deletion\\n--------------------------\")\n",
    "for x in mydb.list_collection_names():\n",
    "  print(x)\n",
    "  \n",
    "#get collection named \"developers\"\n",
    "mycol = mydb[\"phil2\"]\n",
    "  \n",
    "#delete or drop collection\n",
    "mycol.drop()\n",
    "\n",
    "print(\"\\nList of collections after deletion\\n--------------------------\")\n",
    "for x in mydb.list_collection_names():\n",
    "  print(x)\n"
   ]
  },
  {
   "cell_type": "markdown",
   "id": "bb60792b",
   "metadata": {},
   "source": [
    "### 5.2. Update Document (Single, Multi)"
   ]
  },
  {
   "cell_type": "code",
   "execution_count": 49,
   "id": "6c863a41",
   "metadata": {},
   "outputs": [
    {
     "data": {
      "text/plain": [
       "<pymongo.results.InsertOneResult at 0x7f9b80236100>"
      ]
     },
     "execution_count": 49,
     "metadata": {},
     "output_type": "execute_result"
    }
   ],
   "source": [
    "# \"test3\" Database - \"phil\" collection - update single document \n",
    "phil_collection = client['test3']['phil']\n",
    "document = { \"name\": \"Kiku\", \"address\": \"Germany\" }\n",
    "# document2 = {\"key\":\"value\", \"name\": \"Kiku\", \"address\": \"Germany\" }\n",
    "phil_collection.insert_one(document)"
   ]
  },
  {
   "cell_type": "code",
   "execution_count": 50,
   "id": "657bbda5",
   "metadata": {},
   "outputs": [
    {
     "name": "stdout",
     "output_type": "stream",
     "text": [
      "{'_id': '0', 'hello': ['hi', 'sad', 'happy']}\n",
      "{'_id': '1', 'hello': ['hi', 'sad', 'happy', 'for real?']}\n",
      "{'_id': ObjectId('62974cdfce1ef8a58ac6f157'), 'name': 'Kiku', 'address': 'Germany'}\n",
      "{'_id': ObjectId('62974e1ace1ef8a58ac6f158'), 'name': 'Kiku', 'address': 'Germany'}\n"
     ]
    }
   ],
   "source": [
    "# print all the documents in the collection\n",
    "for x in phil_collection.find():\n",
    "  print(x)"
   ]
  },
  {
   "cell_type": "code",
   "execution_count": 52,
   "id": "f87bf983",
   "metadata": {},
   "outputs": [
    {
     "name": "stdout",
     "output_type": "stream",
     "text": [
      "{'_id': '1', 'hello': ['hi', 'sad', 'happy', 'for real?']}\n"
     ]
    }
   ],
   "source": [
    "# find document by _id\n",
    "result = phil_collection.find({'_id' : '1'})\n",
    "for doc in result:\n",
    "    print(doc)"
   ]
  },
  {
   "cell_type": "code",
   "execution_count": 53,
   "id": "8be42111",
   "metadata": {},
   "outputs": [
    {
     "name": "stdout",
     "output_type": "stream",
     "text": [
      "ids of inserted documents\n",
      "---------------------\n",
      "62974e71ce1ef8a58ac6f159\n",
      "62974e71ce1ef8a58ac6f15a\n",
      "62974e71ce1ef8a58ac6f15b\n",
      "62974e71ce1ef8a58ac6f15c\n",
      "62974e71ce1ef8a58ac6f15d\n"
     ]
    }
   ],
   "source": [
    "# Update multiple Document\n",
    "#list of documents\n",
    "list = [{ \"name\": \"Kiku\", \"address\": \"Germany\" },\n",
    "\t\t{ \"name\": \"Lini\", \"address\": \"Sweden\" },\n",
    "\t\t{ \"name\": \"Sree\", \"address\": \"India\" },\n",
    "\t\t{ \"name\": \"Raghu\", \"address\": \"India\" },\n",
    "\t\t{ \"name\": \"Mams\", \"address\": \"France\" }]\n",
    "\n",
    "#insert multiple documents\n",
    "x = phil_collection.insert_many(list)\n",
    "\n",
    "print('ids of inserted documents\\n---------------------')\n",
    "for id in x.inserted_ids:\n",
    "\tprint(id)"
   ]
  },
  {
   "cell_type": "code",
   "execution_count": 54,
   "id": "83f3d75c",
   "metadata": {},
   "outputs": [
    {
     "name": "stdout",
     "output_type": "stream",
     "text": [
      "{'_id': '0', 'hello': ['hi', 'sad', 'happy']}\n",
      "{'_id': '1', 'hello': ['hi', 'sad', 'happy', 'for real?']}\n",
      "{'_id': ObjectId('62974cdfce1ef8a58ac6f157'), 'name': 'Kiku', 'address': 'Germany'}\n",
      "{'_id': ObjectId('62974e1ace1ef8a58ac6f158'), 'name': 'Kiku', 'address': 'Germany'}\n",
      "{'_id': ObjectId('62974e71ce1ef8a58ac6f159'), 'name': 'Kiku', 'address': 'Germany'}\n",
      "{'_id': ObjectId('62974e71ce1ef8a58ac6f15a'), 'name': 'Lini', 'address': 'Sweden'}\n",
      "{'_id': ObjectId('62974e71ce1ef8a58ac6f15b'), 'name': 'Sree', 'address': 'India'}\n",
      "{'_id': ObjectId('62974e71ce1ef8a58ac6f15c'), 'name': 'Raghu', 'address': 'India'}\n",
      "{'_id': ObjectId('62974e71ce1ef8a58ac6f15d'), 'name': 'Mams', 'address': 'France'}\n"
     ]
    }
   ],
   "source": [
    "# print all the documents in the collection\n",
    "for x in phil_collection.find():\n",
    "  print(x)"
   ]
  },
  {
   "cell_type": "markdown",
   "id": "c8128f91",
   "metadata": {},
   "source": [
    "### 5.3. Delete Document (Single, Multi)"
   ]
  },
  {
   "cell_type": "code",
   "execution_count": 55,
   "id": "ced87677",
   "metadata": {},
   "outputs": [],
   "source": [
    "from bson.objectid import ObjectId "
   ]
  },
  {
   "cell_type": "code",
   "execution_count": 58,
   "id": "2672d2eb",
   "metadata": {},
   "outputs": [
    {
     "name": "stdout",
     "output_type": "stream",
     "text": [
      "Documents in Collection\n",
      "-----------------------\n",
      "{'_id': '0', 'hello': ['hi', 'sad', 'happy']}\n",
      "{'_id': '1', 'hello': ['hi', 'sad', 'happy', 'for real?']}\n",
      "{'_id': ObjectId('62974cdfce1ef8a58ac6f157'), 'name': 'Kiku', 'address': 'Germany'}\n",
      "{'_id': ObjectId('62974e1ace1ef8a58ac6f158'), 'name': 'Kiku', 'address': 'Germany'}\n",
      "{'_id': ObjectId('62974e71ce1ef8a58ac6f159'), 'name': 'Kiku', 'address': 'Germany'}\n",
      "{'_id': ObjectId('62974e71ce1ef8a58ac6f15a'), 'name': 'Lini', 'address': 'Sweden'}\n",
      "{'_id': ObjectId('62974e71ce1ef8a58ac6f15b'), 'name': 'Sree', 'address': 'India'}\n",
      "{'_id': ObjectId('62974e71ce1ef8a58ac6f15c'), 'name': 'Raghu', 'address': 'India'}\n",
      "\n",
      "Documents in Collection after delete_one()\n",
      "-----------------------\n",
      "{'_id': '0', 'hello': ['hi', 'sad', 'happy']}\n",
      "{'_id': '1', 'hello': ['hi', 'sad', 'happy', 'for real?']}\n",
      "{'_id': ObjectId('62974cdfce1ef8a58ac6f157'), 'name': 'Kiku', 'address': 'Germany'}\n",
      "{'_id': ObjectId('62974e71ce1ef8a58ac6f159'), 'name': 'Kiku', 'address': 'Germany'}\n",
      "{'_id': ObjectId('62974e71ce1ef8a58ac6f15a'), 'name': 'Lini', 'address': 'Sweden'}\n",
      "{'_id': ObjectId('62974e71ce1ef8a58ac6f15b'), 'name': 'Sree', 'address': 'India'}\n",
      "{'_id': ObjectId('62974e71ce1ef8a58ac6f15c'), 'name': 'Raghu', 'address': 'India'}\n"
     ]
    }
   ],
   "source": [
    "# \"test3\" Database - \"phil\" collection - delete single document \n",
    "phil_collection = client['test3']['phil']\n",
    "\n",
    "print('Documents in Collection\\n-----------------------')\n",
    "for doc in phil_collection.find():\n",
    "    print(doc)\n",
    "    \n",
    "# delete '_id': ObjectId('62974e1ace1ef8a58ac6f158')\n",
    "query = {'_id' : ObjectId('62974e1ace1ef8a58ac6f158')}\n",
    "phil_collection.delete_one(query)\n",
    "                          \n",
    "print('\\nDocuments in Collection after delete_one()\\n-----------------------')\n",
    "for doc in phil_collection.find():\n",
    "    print(doc)\n",
    "                          "
   ]
  },
  {
   "cell_type": "code",
   "execution_count": 59,
   "id": "ad8d906b",
   "metadata": {},
   "outputs": [
    {
     "name": "stdout",
     "output_type": "stream",
     "text": [
      "Documents in Collection\n",
      "-----------------------\n",
      "{'_id': '0', 'hello': ['hi', 'sad', 'happy']}\n",
      "{'_id': '1', 'hello': ['hi', 'sad', 'happy', 'for real?']}\n",
      "{'_id': ObjectId('62974cdfce1ef8a58ac6f157'), 'name': 'Kiku', 'address': 'Germany'}\n",
      "{'_id': ObjectId('62974e71ce1ef8a58ac6f159'), 'name': 'Kiku', 'address': 'Germany'}\n",
      "{'_id': ObjectId('62974e71ce1ef8a58ac6f15a'), 'name': 'Lini', 'address': 'Sweden'}\n",
      "{'_id': ObjectId('62974e71ce1ef8a58ac6f15b'), 'name': 'Sree', 'address': 'India'}\n",
      "{'_id': ObjectId('62974e71ce1ef8a58ac6f15c'), 'name': 'Raghu', 'address': 'India'}\n",
      "\n",
      "Documents in Collection after delete_many\t()\n",
      "-----------------------\n",
      "{'_id': '0', 'hello': ['hi', 'sad', 'happy']}\n",
      "{'_id': '1', 'hello': ['hi', 'sad', 'happy', 'for real?']}\n",
      "{'_id': ObjectId('62974cdfce1ef8a58ac6f157'), 'name': 'Kiku', 'address': 'Germany'}\n",
      "{'_id': ObjectId('62974e71ce1ef8a58ac6f159'), 'name': 'Kiku', 'address': 'Germany'}\n",
      "{'_id': ObjectId('62974e71ce1ef8a58ac6f15a'), 'name': 'Lini', 'address': 'Sweden'}\n"
     ]
    }
   ],
   "source": [
    "# \"test3\" Database - \"phil\" collection - delete multiple document \n",
    "print('Documents in Collection\\n-----------------------')\n",
    "for doc in phil_collection.find():\n",
    "    print(doc)\n",
    "\n",
    "# query to delete document\n",
    "query = {'address':'India'}\n",
    "\n",
    "#delete many document\n",
    "phil_collection.delete_many(query)\n",
    "\n",
    "print('\\nDocuments in Collection after delete_many\t()\\n-----------------------')\n",
    "for doc in phil_collection.find():\n",
    "    print(doc)"
   ]
  },
  {
   "cell_type": "code",
   "execution_count": null,
   "id": "d14b2b24",
   "metadata": {},
   "outputs": [],
   "source": []
  }
 ],
 "metadata": {
  "kernelspec": {
   "display_name": "mongodb",
   "language": "python",
   "name": "mongodo"
  },
  "language_info": {
   "codemirror_mode": {
    "name": "ipython",
    "version": 3
   },
   "file_extension": ".py",
   "mimetype": "text/x-python",
   "name": "python",
   "nbconvert_exporter": "python",
   "pygments_lexer": "ipython3",
   "version": "3.8.12"
  }
 },
 "nbformat": 4,
 "nbformat_minor": 5
}
