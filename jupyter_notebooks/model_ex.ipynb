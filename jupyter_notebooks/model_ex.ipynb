{
 "cells": [
  {
   "cell_type": "code",
   "execution_count": 1,
   "metadata": {},
   "outputs": [],
   "source": [
    "import pandas as pd\n",
    "import numpy as np\n",
    "\n",
    "from model.utils import clean\n",
    "from model.dataset import SongDataset\n",
    "from model.trainer import SongTrainer\n",
    "from transformers import AutoTokenizer, AutoModelForSequenceClassification"
   ]
  },
  {
   "cell_type": "code",
   "execution_count": 2,
   "metadata": {},
   "outputs": [],
   "source": [
    "model_name = \"searle-j/kote_for_easygoing_people\"\n",
    "model = AutoModelForSequenceClassification.from_pretrained(model_name)\n",
    "tokenizer = AutoTokenizer.from_pretrained(model_name)"
   ]
  },
  {
   "cell_type": "code",
   "execution_count": 3,
   "metadata": {},
   "outputs": [],
   "source": [
    "df = pd.read_csv('./data/Lyrics_top100.csv')"
   ]
  },
  {
   "cell_type": "code",
   "execution_count": 4,
   "metadata": {},
   "outputs": [],
   "source": [
    "fake_labels = [list(set(np.random.choice(44, 10))) for _ in range(100)]"
   ]
  },
  {
   "cell_type": "code",
   "execution_count": 5,
   "metadata": {},
   "outputs": [
    {
     "data": {
      "text/plain": [
       "[[32, 2, 36, 42, 16, 18, 22, 26, 28, 29],\n",
       " [35, 36, 37, 38, 10, 13, 22, 28, 31],\n",
       " [32, 3, 5, 7, 10, 13, 25, 27, 29],\n",
       " [3, 4, 36, 40, 41, 12, 17, 22, 26],\n",
       " [0, 33, 3, 35, 39, 8, 40, 42, 30],\n",
       " [0, 33, 8, 41, 15, 17, 18, 21, 26, 28],\n",
       " [32, 1, 9, 42, 12, 15, 16],\n",
       " [0, 33, 5, 6, 11, 13, 27, 28, 30, 31],\n",
       " [0, 32, 4, 37, 43, 18, 20, 23, 28],\n",
       " [3, 37, 5, 43, 13, 16, 18, 25, 27],\n",
       " [33, 37, 38, 10, 42, 17, 18, 22, 25, 29],\n",
       " [33, 2, 34, 5, 43, 18, 19, 21, 25],\n",
       " [32, 6, 39, 9, 42, 11, 22, 25, 28, 30],\n",
       " [0, 33, 7, 9, 43, 14, 17, 22, 23, 30],\n",
       " [0, 3, 10, 18, 23, 24, 26, 28, 29],\n",
       " [34, 38, 6, 9, 10, 23, 25, 27, 31],\n",
       " [33, 2, 3, 6, 8, 40, 10, 11, 26, 29],\n",
       " [1, 2, 34, 10, 11, 12, 14, 22, 26, 30],\n",
       " [1, 4, 6, 39, 41, 21, 25, 27],\n",
       " [1, 36, 4, 5, 10, 11, 12, 18, 22],\n",
       " [32, 2, 41, 10, 42, 9, 22, 26, 30, 31],\n",
       " [32, 0, 4, 40, 41, 13, 26, 28, 30, 31],\n",
       " [0, 32, 2, 35, 36, 3, 17, 22, 27],\n",
       " [0, 3, 4, 5, 38, 40, 14, 15, 21, 26],\n",
       " [32, 33, 1, 4, 38, 7, 40, 12, 26, 27],\n",
       " [2, 6, 7, 40, 13, 21, 24, 26, 29],\n",
       " [0, 2, 36, 38, 12, 16, 22, 23, 25, 27],\n",
       " [34, 36, 5, 9, 43, 11, 19, 25, 31],\n",
       " [1, 2, 3, 7, 39, 41, 10, 17, 22],\n",
       " [1, 4, 9, 13, 14, 20, 30],\n",
       " [0, 2, 42, 11, 14, 15, 20, 23, 27],\n",
       " [32, 33, 2, 9, 41, 13, 16, 19, 24, 28],\n",
       " [0, 39, 41, 11, 43, 13, 15, 27],\n",
       " [32, 2, 3, 5, 6, 8, 9, 15, 22, 24],\n",
       " [32, 1, 34, 3, 33, 7, 8, 15, 29, 31],\n",
       " [2, 36, 41, 11, 12, 18, 21, 24, 27],\n",
       " [1, 33, 3, 5, 8, 40, 14, 19, 21],\n",
       " [33, 2, 4, 36, 6, 15, 22, 24],\n",
       " [1, 34, 36, 11, 12, 15, 17, 22, 23],\n",
       " [1, 5, 6, 41, 12, 13, 14, 16, 18, 27],\n",
       " [34, 35, 37, 5, 39, 40, 21, 31],\n",
       " [1, 2, 35, 41, 42, 15, 22, 26, 27],\n",
       " [37, 9, 42, 43, 14, 17, 20, 29],\n",
       " [1, 33, 40, 8, 11, 19, 28, 31],\n",
       " [4, 9, 12, 14, 15, 18, 24, 25, 28, 29],\n",
       " [1, 35, 36, 39, 12, 13, 18, 23, 29, 31],\n",
       " [35, 5, 9, 12, 14, 15, 21, 26, 30, 31],\n",
       " [0, 34, 3, 4, 37, 6, 16, 23, 26],\n",
       " [2, 37, 42, 43, 13, 18, 19, 21, 26, 31],\n",
       " [33, 36, 22, 23, 26, 27, 30],\n",
       " [32, 36, 6, 7, 8, 38, 40, 39, 26],\n",
       " [1, 6, 41, 10, 14, 15, 16, 22, 24, 28],\n",
       " [0, 4, 5, 39, 43, 15, 17, 20, 24, 28],\n",
       " [32, 4, 38, 43, 15, 23, 26, 27, 28],\n",
       " [0, 37, 5, 7, 43, 16, 20, 22, 23, 30],\n",
       " [33, 41, 42, 9, 12, 13, 11, 17, 25, 31],\n",
       " [0, 1, 34, 37, 40, 8, 10, 14, 16, 23],\n",
       " [3, 36, 5, 40, 10, 11, 25, 26, 28, 30],\n",
       " [32, 0, 4, 36, 7, 8, 11, 13, 22, 27],\n",
       " [6, 10, 14, 15, 19, 23, 24, 25, 29],\n",
       " [0, 34, 3, 2, 6, 14, 15, 18, 26, 31],\n",
       " [2, 35, 36, 7, 40, 15, 19, 22],\n",
       " [0, 32, 2, 4, 38, 7, 41, 10, 14],\n",
       " [1, 37, 39, 40, 8, 11, 15, 19],\n",
       " [1, 37, 8, 10, 16, 17, 18, 22, 24, 30],\n",
       " [32, 3, 36, 42, 10, 14, 19, 28],\n",
       " [36, 4, 7, 39, 42, 12, 25, 27, 30],\n",
       " [0, 2, 4, 5, 6, 7, 10, 14, 22, 30],\n",
       " [32, 34, 6, 16, 17, 20, 24, 27],\n",
       " [2, 37, 6, 42, 17, 22, 23, 26, 30],\n",
       " [0, 40, 41, 10, 16, 18, 26, 27, 29],\n",
       " [35, 36, 6, 8, 15, 17, 20, 21, 24, 25],\n",
       " [33, 3, 41, 16, 18, 19, 21, 27],\n",
       " [33, 2, 35, 3, 37, 7, 39, 12, 23, 30],\n",
       " [33, 1, 36, 6, 41, 10, 43, 25, 26, 29],\n",
       " [33, 35, 4, 37, 40, 13, 17, 20, 24],\n",
       " [0, 2, 35, 37, 7, 16, 17, 27, 28, 30],\n",
       " [32, 33, 34, 36, 38, 9, 10, 12, 20, 29],\n",
       " [0, 10, 12, 13, 19, 20, 26, 28, 29],\n",
       " [34, 3, 4, 6, 11, 22, 25, 27, 31],\n",
       " [0, 32, 38, 8, 10, 11, 43, 18, 31],\n",
       " [37, 5, 12, 17, 19, 21, 22, 26, 31],\n",
       " [34, 37, 10, 11, 12, 20, 22, 26, 28],\n",
       " [32, 35, 5, 6, 12, 15, 23, 29],\n",
       " [3, 37, 6, 39, 41, 42, 11, 23, 25, 31],\n",
       " [32, 33, 34, 3, 37, 7, 11, 24, 26, 28],\n",
       " [33, 5, 41, 13, 14, 16, 22, 23, 24, 29],\n",
       " [0, 4, 37, 36, 38, 39, 42, 10, 16],\n",
       " [0, 1, 3, 35, 5, 39, 9, 22, 24],\n",
       " [32, 2, 3, 43, 12, 15, 25, 27],\n",
       " [0, 36, 6, 12, 13, 14, 15, 20, 22, 31],\n",
       " [1, 8, 9, 42, 43, 14, 16, 20, 23],\n",
       " [0, 35, 37, 41, 43, 13, 16, 23, 29],\n",
       " [32, 3, 7, 18, 19, 20, 23, 25, 26],\n",
       " [32, 35, 9, 10, 12, 14, 26, 31],\n",
       " [1, 5, 38, 9, 12, 13, 14, 18, 30],\n",
       " [34, 35, 4, 39, 10, 11, 43, 22, 25],\n",
       " [1, 34, 3, 4, 2, 6, 38, 41, 18, 29],\n",
       " [33, 2, 1, 4, 3, 39, 40, 11, 43, 24],\n",
       " [32, 5, 6, 7, 40, 42, 23, 24, 28]]"
      ]
     },
     "execution_count": 5,
     "metadata": {},
     "output_type": "execute_result"
    }
   ],
   "source": [
    "fake_labels"
   ]
  },
  {
   "cell_type": "code",
   "execution_count": 6,
   "metadata": {},
   "outputs": [],
   "source": [
    "df['labels'] = fake_labels"
   ]
  },
  {
   "cell_type": "code",
   "execution_count": 7,
   "metadata": {},
   "outputs": [],
   "source": [
    "texts = df['lyric']\n",
    "labels = df['labels']"
   ]
  },
  {
   "cell_type": "code",
   "execution_count": 8,
   "metadata": {},
   "outputs": [],
   "source": [
    "cleaned_text = [clean(text) for text in texts]"
   ]
  },
  {
   "cell_type": "code",
   "execution_count": 9,
   "metadata": {},
   "outputs": [],
   "source": [
    "dataset_ = SongDataset(cleaned_text, labels, tokenizer)"
   ]
  },
  {
   "cell_type": "code",
   "execution_count": 10,
   "metadata": {},
   "outputs": [],
   "source": [
    "from model.arguments import *\n",
    "from transformers import HfArgumentParser\n",
    "from transformers import TrainingArguments\n",
    "\n",
    "parser = HfArgumentParser((ModelArguments, DataTrainingArguments, TrainingArguments))\n",
    "model_args, data_args, training_args = parser.parse_json_file('./args.json')"
   ]
  },
  {
   "cell_type": "code",
   "execution_count": 11,
   "metadata": {},
   "outputs": [
    {
     "data": {
      "text/plain": [
       "ModelArguments(model_name_or_path='searle-j/kote_for_easygoing_people', config_name='searle-j/kote_for_easygoing_people', tokenizer_name='searle-j/kote_for_easygoing_people')"
      ]
     },
     "execution_count": 11,
     "metadata": {},
     "output_type": "execute_result"
    }
   ],
   "source": [
    "model_args"
   ]
  },
  {
   "cell_type": "code",
   "execution_count": 12,
   "metadata": {},
   "outputs": [],
   "source": [
    "trainer = SongTrainer(model=model,\n",
    "                      args=training_args,\n",
    "                      train_dataset=dataset_)"
   ]
  },
  {
   "cell_type": "code",
   "execution_count": 13,
   "metadata": {},
   "outputs": [
    {
     "name": "stderr",
     "output_type": "stream",
     "text": [
      "/opt/ml/final_project/develop/.venv/lib/python3.8/site-packages/transformers/optimization.py:306: FutureWarning: This implementation of AdamW is deprecated and will be removed in a future version. Use the PyTorch implementation torch.optim.AdamW instead, or set `no_deprecation_warning=True` to disable this warning\n",
      "  warnings.warn(\n",
      "***** Running training *****\n",
      "  Num examples = 100\n",
      "  Num Epochs = 50\n",
      "  Instantaneous batch size per device = 8\n",
      "  Total train batch size (w. parallel, distributed & accumulation) = 8\n",
      "  Gradient Accumulation steps = 1\n",
      "  Total optimization steps = 650\n",
      "/opt/ml/final_project/develop/.venv/lib/python3.8/site-packages/transformers/data/data_collator.py:131: UserWarning: Creating a tensor from a list of numpy.ndarrays is extremely slow. Please consider converting the list to a single numpy.ndarray with numpy.array() before converting to a tensor. (Triggered internally at  ../torch/csrc/utils/tensor_new.cpp:210.)\n",
      "  batch[k] = torch.tensor([f[k] for f in features])\n"
     ]
    },
    {
     "data": {
      "text/html": [
       "\n",
       "    <div>\n",
       "      \n",
       "      <progress value='650' max='650' style='width:300px; height:20px; vertical-align: middle;'></progress>\n",
       "      [650/650 02:59, Epoch 50/50]\n",
       "    </div>\n",
       "    <table border=\"1\" class=\"dataframe\">\n",
       "  <thead>\n",
       " <tr style=\"text-align: left;\">\n",
       "      <th>Step</th>\n",
       "      <th>Training Loss</th>\n",
       "    </tr>\n",
       "  </thead>\n",
       "  <tbody>\n",
       "    <tr>\n",
       "      <td>500</td>\n",
       "      <td>0.431100</td>\n",
       "    </tr>\n",
       "  </tbody>\n",
       "</table><p>"
      ],
      "text/plain": [
       "<IPython.core.display.HTML object>"
      ]
     },
     "metadata": {},
     "output_type": "display_data"
    },
    {
     "name": "stderr",
     "output_type": "stream",
     "text": [
      "Saving model checkpoint to ./results/checkpoint-500\n",
      "Configuration saved in ./results/checkpoint-500/config.json\n",
      "Model weights saved in ./results/checkpoint-500/pytorch_model.bin\n",
      "\n",
      "\n",
      "Training completed. Do not forget to share your model on huggingface.co/models =)\n",
      "\n",
      "\n"
     ]
    },
    {
     "data": {
      "text/plain": [
       "TrainOutput(global_step=650, training_loss=0.4116526500995343, metrics={'train_runtime': 180.1274, 'train_samples_per_second': 27.758, 'train_steps_per_second': 3.609, 'total_flos': 1316051374080000.0, 'train_loss': 0.4116526500995343, 'epoch': 50.0})"
      ]
     },
     "execution_count": 13,
     "metadata": {},
     "output_type": "execute_result"
    }
   ],
   "source": [
    "trainer.train()"
   ]
  },
  {
   "cell_type": "code",
   "execution_count": null,
   "metadata": {},
   "outputs": [],
   "source": []
  }
 ],
 "metadata": {
  "interpreter": {
   "hash": "d48dcfd2bce4062b6669f30983fcd635d5c4d979dc6b228235a86d26be016f2b"
  },
  "kernelspec": {
   "display_name": "Python 3 (ipykernel)",
   "language": "python",
   "name": "python3"
  },
  "language_info": {
   "codemirror_mode": {
    "name": "ipython",
    "version": 3
   },
   "file_extension": ".py",
   "mimetype": "text/x-python",
   "name": "python",
   "nbconvert_exporter": "python",
   "pygments_lexer": "ipython3",
   "version": "3.9.7"
  }
 },
 "nbformat": 4,
 "nbformat_minor": 2
}
