{
 "cells": [
  {
   "cell_type": "code",
   "execution_count": 1,
   "metadata": {},
   "outputs": [],
   "source": [
    "import pandas as pd\n",
    "import pickle\n",
    "from transformers import AutoTokenizer, AutoModelForSequenceClassification\n",
    "from model.pipeline import SongPipeline\n",
    "from model.utils import clean"
   ]
  },
  {
   "cell_type": "code",
   "execution_count": 2,
   "metadata": {},
   "outputs": [],
   "source": [
    "def top_k_emotions(data:list, threshold:float, k:int):\n",
    "    texts = data['lyric']\n",
    "    titles = data['title']\n",
    "    singers = data['singer']\n",
    "    \n",
    "    if not 0 <= threshold <=1:\n",
    "        raise ValueError(\"theshold must be a float b/w 0 ~ 1.\")\n",
    "    results = {}\n",
    "    for idx, text in enumerate(texts):\n",
    "        cur_result = {}\n",
    "        text = clean(text)\n",
    "        for out in pipe(text, stride=128, return_overflowing_tokens=True,\n",
    "                        padding=True, truncation=True)[0]:\n",
    "            if out[\"score\"] > threshold:\n",
    "                cur_result[out[\"label\"]] = round(out[\"score\"], 2)\n",
    "        cur_result = sorted(cur_result.items(), key=lambda x: x[1], reverse=True)\n",
    "        title_plus_singer = titles[idx] + ' | ' + singers[idx]\n",
    "        results[title_plus_singer] = cur_result[:k]\n",
    "        \n",
    "    return results\n"
   ]
  },
  {
   "cell_type": "code",
   "execution_count": 3,
   "metadata": {},
   "outputs": [],
   "source": [
    "lyrics = pd.read_csv(\"New_Lyrics.csv\")\n",
    "model_name = \"searle-j/kote_for_easygoing_people\"\n",
    "model = AutoModelForSequenceClassification.from_pretrained(model_name)\n",
    "tokenizer = AutoTokenizer.from_pretrained(model_name)\n"
   ]
  },
  {
   "cell_type": "code",
   "execution_count": 4,
   "metadata": {},
   "outputs": [],
   "source": [
    "\n",
    "pipe = SongPipeline(\n",
    "        model=model,\n",
    "        tokenizer=tokenizer,\n",
    "        device=0, # gpu number, -1 if cpu used\n",
    "        return_all_scores=True,\n",
    "        function_to_apply='sigmoid'\n",
    "    )\n"
   ]
  },
  {
   "cell_type": "code",
   "execution_count": 5,
   "metadata": {},
   "outputs": [
    {
     "name": "stderr",
     "output_type": "stream",
     "text": [
      "/opt/ml/final_project/develop/.venv/lib/python3.8/site-packages/transformers/pipelines/base.py:996: UserWarning: You seem to be using the pipelines sequentially on GPU. In order to maximize efficiency please use a dataset\n",
      "  warnings.warn(\n"
     ]
    },
    {
     "name": "stdout",
     "output_type": "stream",
     "text": [
      "Finished!\n"
     ]
    }
   ],
   "source": [
    "outputs = top_k_emotions(data=lyrics, threshold=0.2, k=5)\n",
    "with open('results_new_pipeline.pkl', 'wb') as f:\n",
    "    pickle.dump(outputs, f)\n",
    "print('Finished!')"
   ]
  },
  {
   "cell_type": "code",
   "execution_count": 6,
   "metadata": {},
   "outputs": [],
   "source": [
    "with open('results.pkl', 'rb') as f:\n",
    "    result_original = pickle.load(f)\n",
    "\n",
    "with open('results_new_pipeline.pkl', 'rb') as f:\n",
    "    result = pickle.load(f)"
   ]
  },
  {
   "cell_type": "code",
   "execution_count": 7,
   "metadata": {},
   "outputs": [
    {
     "name": "stdout",
     "output_type": "stream",
     "text": [
      "Coming Back | 싸이 (PSY)\n",
      "단순히 앞에서 512 글자수로 자름 :  [('즐거움/신남', 0.94), ('기쁨', 0.87), ('행복', 0.84), ('기대감', 0.73), ('환영/호의', 0.47)]\n",
      "stride를 통해 나온 점수의 평균 :  [('즐거움/신남', 0.65), ('없음', 0.59), ('기대감', 0.51), ('기쁨', 0.43), ('행복', 0.35)]\n",
      "--------------------------------------------------\n",
      "TOMBOY | (여자)아이들\n",
      "단순히 앞에서 512 글자수로 자름 :  [('화남/분노', 0.62), ('짜증', 0.62), ('비장함', 0.55), ('없음', 0.5), ('어이없음', 0.39)]\n",
      "stride를 통해 나온 점수의 평균 :  [('없음', 0.78), ('비장함', 0.32), ('화남/분노', 0.26), ('짜증', 0.24)]\n",
      "--------------------------------------------------\n",
      "LOVE DIVE | IVE (아이브)\n",
      "단순히 앞에서 512 글자수로 자름 :  [('행복', 0.8), ('아껴주는', 0.78), ('즐거움/신남', 0.71), ('기대감', 0.7), ('기쁨', 0.7)]\n",
      "stride를 통해 나온 점수의 평균 :  [('없음', 0.71), ('아껴주는', 0.58), ('행복', 0.4), ('기대감', 0.33), ('기쁨', 0.33)]\n",
      "--------------------------------------------------\n",
      "봄여름가을겨울 (Still Life) | BIGBANG (빅뱅)\n",
      "단순히 앞에서 512 글자수로 자름 :  [('슬픔', 0.89), ('힘듦/지침', 0.72), ('안타까움/실망', 0.51), ('불쌍함/연민', 0.47), ('서러움', 0.45)]\n",
      "stride를 통해 나온 점수의 평균 :  [('슬픔', 0.84), ('힘듦/지침', 0.68), ('아껴주는', 0.48), ('안타까움/실망', 0.47), ('깨달음', 0.45)]\n",
      "--------------------------------------------------\n",
      "사랑인가 봐 | 멜로망스\n",
      "단순히 앞에서 512 글자수로 자름 :  [('행복', 0.92), ('기쁨', 0.84), ('아껴주는', 0.82), ('감동/감탄', 0.72), ('흐뭇함(귀여움/예쁨)', 0.65)]\n",
      "stride를 통해 나온 점수의 평균 :  [('행복', 0.92), ('기쁨', 0.84), ('아껴주는', 0.82), ('감동/감탄', 0.72), ('흐뭇함(귀여움/예쁨)', 0.65)]\n",
      "--------------------------------------------------\n",
      "정이라고 하자 (Feat. 10CM) | BIG Naughty (서동현)\n",
      "단순히 앞에서 512 글자수로 자름 :  [('슬픔', 0.95), ('불쌍함/연민', 0.88), ('힘듦/지침', 0.82), ('안타까움/실망', 0.79), ('아껴주는', 0.69)]\n",
      "stride를 통해 나온 점수의 평균 :  [('슬픔', 0.91), ('불쌍함/연민', 0.82), ('아껴주는', 0.79), ('힘듦/지침', 0.78), ('안타까움/실망', 0.67)]\n",
      "--------------------------------------------------\n",
      "나의 X에게 | 경서\n",
      "단순히 앞에서 512 글자수로 자름 :  [('아껴주는', 0.93), ('행복', 0.8), ('기쁨', 0.67), ('고마움', 0.63), ('기대감', 0.61)]\n",
      "stride를 통해 나온 점수의 평균 :  [('아껴주는', 0.93), ('행복', 0.8), ('기쁨', 0.67), ('고마움', 0.63), ('기대감', 0.61)]\n",
      "--------------------------------------------------\n",
      "Feel My Rhythm | Red Velvet (레드벨벳)\n",
      "단순히 앞에서 512 글자수로 자름 :  [('기대감', 0.87), ('즐거움/신남', 0.84), ('행복', 0.78), ('기쁨', 0.75), ('감동/감탄', 0.55)]\n",
      "stride를 통해 나온 점수의 평균 :  [('기대감', 0.73), ('행복', 0.67), ('아껴주는', 0.62), ('기쁨', 0.58), ('없음', 0.57)]\n",
      "--------------------------------------------------\n",
      "LOVE me | BE'O (비오)\n",
      "단순히 앞에서 512 글자수로 자름 :  [('슬픔', 0.66), ('힘듦/지침', 0.65), ('행복', 0.65), ('아껴주는', 0.58), ('기쁨', 0.56)]\n",
      "stride를 통해 나온 점수의 평균 :  [('슬픔', 0.79), ('힘듦/지침', 0.76), ('불안/걱정', 0.63), ('안타까움/실망', 0.61), ('서러움', 0.55)]\n",
      "--------------------------------------------------\n",
      "취중고백 | 김민석 (멜로망스)\n",
      "단순히 앞에서 512 글자수로 자름 :  [('아껴주는', 0.92), ('불쌍함/연민', 0.83), ('슬픔', 0.82), ('불안/걱정', 0.76), ('힘듦/지침', 0.66)]\n",
      "stride를 통해 나온 점수의 평균 :  [('아껴주는', 0.92), ('불쌍함/연민', 0.83), ('슬픔', 0.82), ('불안/걱정', 0.76), ('힘듦/지침', 0.66)]\n",
      "--------------------------------------------------\n",
      "GANADARA (Feat. 아이유) | 박재범\n",
      "단순히 앞에서 512 글자수로 자름 :  [('기대감', 0.83), ('아껴주는', 0.8), ('행복', 0.73), ('기쁨', 0.64), ('환영/호의', 0.52)]\n",
      "stride를 통해 나온 점수의 평균 :  [('아껴주는', 0.82), ('기대감', 0.72), ('행복', 0.62), ('기쁨', 0.51), ('환영/호의', 0.45)]\n",
      "--------------------------------------------------\n"
     ]
    }
   ],
   "source": [
    "for idx, key in enumerate(result_original.keys()):\n",
    "    print(key)\n",
    "    print(\"단순히 앞에서 512 글자수로 자름 : \", result_original[key])\n",
    "    print(\"stride를 통해 나온 점수의 평균 : \", result[key])\n",
    "    print('-' * 50)\n",
    "    if idx == 10:\n",
    "        break"
   ]
  },
  {
   "cell_type": "code",
   "execution_count": null,
   "metadata": {},
   "outputs": [],
   "source": [
    "백엔드 쪽에서는\n",
    "처음에는 감정 44개 프로토타입을 만들고\n",
    "\n",
    "감정 분류가 되면, 어떤 거 쓰고 안쓰고\n",
    "코드에 넣으면 바로 될거 같거든요\n",
    "\n",
    "44개\n",
    "\n",
    "사용자가 요청한 감정 중에 저희가 정한 20개 내에 없으면? (0개면?)\n",
    "0개면 => (무슨 감정인지 모르겠어요!) 체크리스트 보여주면 될 거 같습니다\n",
    "data가 없어서 \n",
    "\n",
    "저희 모델로 예측 한 다음에... 그 예측값으로 레이블링 하고? 수도 레이블링하고\n",
    "거기서 다시 fine-tuning하고 그래야 하는데..."
   ]
  },
  {
   "cell_type": "code",
   "execution_count": null,
   "metadata": {},
   "outputs": [],
   "source": [
    "논문에서 이 연구팀이 훈련시킨 방식이 그거거든요?\n",
    "Binary cross entropy로 훈련을 시켰는데,\n",
    "softmax가 아니라 sigmoid를 썻어요\n",
    "softmax는 수식이 전체 레이블에 대해서 확률을 구하는 =>\n",
    "sigmoid는 => independent해요 레이블끼리\n",
    "threshold를 넘으면 1, 아니면 0"
   ]
  },
  {
   "cell_type": "code",
   "execution_count": null,
   "metadata": {},
   "outputs": [],
   "source": []
  }
 ],
 "metadata": {
  "interpreter": {
   "hash": "d48dcfd2bce4062b6669f30983fcd635d5c4d979dc6b228235a86d26be016f2b"
  },
  "kernelspec": {
   "display_name": "Python 3.8.5 ('.venv': poetry)",
   "language": "python",
   "name": "python3"
  },
  "language_info": {
   "codemirror_mode": {
    "name": "ipython",
    "version": 3
   },
   "file_extension": ".py",
   "mimetype": "text/x-python",
   "name": "python",
   "nbconvert_exporter": "python",
   "pygments_lexer": "ipython3",
   "version": "3.8.5"
  },
  "orig_nbformat": 4
 },
 "nbformat": 4,
 "nbformat_minor": 2
}
