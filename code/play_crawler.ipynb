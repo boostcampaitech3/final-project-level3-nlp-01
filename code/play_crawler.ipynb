{
 "cells": [
  {
   "cell_type": "code",
   "execution_count": 128,
   "metadata": {},
   "outputs": [],
   "source": [
    "from selenium import webdriver\n",
    "from selenium.webdriver.common.by import By\n",
    "from selenium.webdriver.common.keys import Keys\n",
    "from selenium.webdriver.support.ui import WebDriverWait \n",
    "from selenium.webdriver.support import expected_conditions as EC\n",
    "from selenium.common.exceptions import TimeoutException   \n",
    "from selenium.common.exceptions import NoSuchElementException, StaleElementReferenceException, TimeoutException\n",
    "import time\n",
    "import pandas as pd"
   ]
  },
  {
   "cell_type": "code",
   "execution_count": 126,
   "metadata": {},
   "outputs": [],
   "source": [
    "driver = webdriver.Safari()\n",
    "driver.implicitly_wait(3)"
   ]
  },
  {
   "cell_type": "code",
   "execution_count": 130,
   "metadata": {},
   "outputs": [
    {
     "name": "stderr",
     "output_type": "stream",
     "text": [
      "/var/folders/pr/p1vd3whs5tgdclytwz2t634h0000gn/T/ipykernel_2826/4001420278.py:4: DeprecationWarning: find_element_by_class_name is deprecated. Please use find_element(by=By.CLASS_NAME, value=name) instead\n",
      "  paging = driver.find_element_by_class_name(\"cm_paging_area\")\n",
      "/var/folders/pr/p1vd3whs5tgdclytwz2t634h0000gn/T/ipykernel_2826/4001420278.py:5: DeprecationWarning: find_element_by_class_name is deprecated. Please use find_element(by=By.CLASS_NAME, value=name) instead\n",
      "  max_page = driver.find_element_by_class_name(\"cm_paging_area\").find_element_by_class_name(\"pgs\").find_element_by_class_name(\"npgs\").find_element_by_class_name(\"_total\").text\n",
      "/var/folders/pr/p1vd3whs5tgdclytwz2t634h0000gn/T/ipykernel_2826/4001420278.py:9: DeprecationWarning: find_element_by_class_name is deprecated. Please use find_element(by=By.CLASS_NAME, value=name) instead\n",
      "  paging = driver.find_element_by_class_name(\"cm_paging_area\")\n",
      "/var/folders/pr/p1vd3whs5tgdclytwz2t634h0000gn/T/ipykernel_2826/4001420278.py:10: DeprecationWarning: find_element_by_class_name is deprecated. Please use find_element(by=By.CLASS_NAME, value=name) instead\n",
      "  pgs = paging.find_element_by_class_name(\"pgs\")\n",
      "/var/folders/pr/p1vd3whs5tgdclytwz2t634h0000gn/T/ipykernel_2826/4001420278.py:11: DeprecationWarning: find_element_by_class_name is deprecated. Please use find_element(by=By.CLASS_NAME, value=name) instead\n",
      "  next_page_button = pgs.find_element_by_class_name(\"pg_next\")\n",
      "/var/folders/pr/p1vd3whs5tgdclytwz2t634h0000gn/T/ipykernel_2826/4001420278.py:14: DeprecationWarning: find_element_by_class_name is deprecated. Please use find_element(by=By.CLASS_NAME, value=name) instead\n",
      "  cur_page = driver.find_element_by_class_name(\"npgs_now\").text\n",
      "/var/folders/pr/p1vd3whs5tgdclytwz2t634h0000gn/T/ipykernel_2826/4001420278.py:22: DeprecationWarning: find_element_by_class_name is deprecated. Please use find_element(by=By.CLASS_NAME, value=name) instead\n",
      "  info = driver.find_element_by_class_name(\"_info\")\n",
      "/var/folders/pr/p1vd3whs5tgdclytwz2t634h0000gn/T/ipykernel_2826/4001420278.py:23: DeprecationWarning: find_element_by_class_name is deprecated. Please use find_element(by=By.CLASS_NAME, value=name) instead\n",
      "  list_image_info = info.find_element_by_class_name(\"list_image_info\")\n",
      "/var/folders/pr/p1vd3whs5tgdclytwz2t634h0000gn/T/ipykernel_2826/4001420278.py:24: DeprecationWarning: find_elements_by_tag_name is deprecated. Please use find_elements(by=By.TAG_NAME, value=name) instead\n",
      "  pages = list_image_info.find_elements_by_tag_name(\"ul\")\n",
      "/var/folders/pr/p1vd3whs5tgdclytwz2t634h0000gn/T/ipykernel_2826/4001420278.py:30: DeprecationWarning: find_elements_by_tag_name is deprecated. Please use find_elements(by=By.TAG_NAME, value=name) instead\n",
      "  temp_play_urls = page.find_elements_by_tag_name(\"li\")\n",
      "/var/folders/pr/p1vd3whs5tgdclytwz2t634h0000gn/T/ipykernel_2826/4001420278.py:32: DeprecationWarning: find_element_by_tag_name is deprecated. Please use find_element(by=By.TAG_NAME, value=name) instead\n",
      "  play_url = temp_play_url.find_element_by_tag_name(\"a\").get_attribute(\"href\")\n"
     ]
    },
    {
     "name": "stdout",
     "output_type": "stream",
     "text": [
      "222\n",
      "2185\n"
     ]
    },
    {
     "name": "stderr",
     "output_type": "stream",
     "text": [
      "/var/folders/pr/p1vd3whs5tgdclytwz2t634h0000gn/T/ipykernel_2826/4001420278.py:44: DeprecationWarning: find_element_by_xpath is deprecated. Please use find_element(by=By.XPATH, value=xpath) instead\n",
      "  basic_info_url = driver.find_element_by_xpath('//*[@id=\"main_pack\"]/div[2]/div[1]/div[3]/div/div/ul/li[2]/a').get_attribute('href')\n",
      "/var/folders/pr/p1vd3whs5tgdclytwz2t634h0000gn/T/ipykernel_2826/4001420278.py:47: DeprecationWarning: find_elements_by_class_name is deprecated. Please use find_elements(by=By.CLASS_NAME, value=name) instead\n",
      "  if driver.find_elements_by_class_name('intro_box') != []:\n",
      "/var/folders/pr/p1vd3whs5tgdclytwz2t634h0000gn/T/ipykernel_2826/4001420278.py:58: DeprecationWarning: find_elements_by_class_name is deprecated. Please use find_elements(by=By.CLASS_NAME, value=name) instead\n",
      "  elif driver.find_elements_by_class_name(\"detail_info\") != []:\n",
      "/var/folders/pr/p1vd3whs5tgdclytwz2t634h0000gn/T/ipykernel_2826/4001420278.py:60: DeprecationWarning: find_element_by_class_name is deprecated. Please use find_element(by=By.CLASS_NAME, value=name) instead\n",
      "  title_area = driver.find_element_by_class_name(\"area_text_title\")\n",
      "/var/folders/pr/p1vd3whs5tgdclytwz2t634h0000gn/T/ipykernel_2826/4001420278.py:61: DeprecationWarning: find_element_by_tag_name is deprecated. Please use find_element(by=By.TAG_NAME, value=name) instead\n",
      "  title = title_area.find_element_by_tag_name(\"strong\").text\n",
      "/var/folders/pr/p1vd3whs5tgdclytwz2t634h0000gn/T/ipykernel_2826/4001420278.py:63: DeprecationWarning: find_element_by_class_name is deprecated. Please use find_element(by=By.CLASS_NAME, value=name) instead\n",
      "  sub_title_area = driver.find_element_by_class_name(\"sub_title\")\n",
      "/var/folders/pr/p1vd3whs5tgdclytwz2t634h0000gn/T/ipykernel_2826/4001420278.py:64: DeprecationWarning: find_element_by_class_name is deprecated. Please use find_element(by=By.CLASS_NAME, value=name) instead\n",
      "  sub_title = sub_title_area.find_element_by_class_name(\"txt\").find_element_by_tag_name(\"a\").text\n",
      "/var/folders/pr/p1vd3whs5tgdclytwz2t634h0000gn/T/ipykernel_2826/4001420278.py:64: DeprecationWarning: find_element_by_tag_name is deprecated. Please use find_element(by=By.TAG_NAME, value=name) instead\n",
      "  sub_title = sub_title_area.find_element_by_class_name(\"txt\").find_element_by_tag_name(\"a\").text\n",
      "/var/folders/pr/p1vd3whs5tgdclytwz2t634h0000gn/T/ipykernel_2826/4001420278.py:66: DeprecationWarning: find_element_by_class_name is deprecated. Please use find_element(by=By.CLASS_NAME, value=name) instead\n",
      "  intro_box = driver.find_element_by_class_name(\"detail_info\")\n",
      "/var/folders/pr/p1vd3whs5tgdclytwz2t634h0000gn/T/ipykernel_2826/4001420278.py:67: DeprecationWarning: find_element_by_class_name is deprecated. Please use find_element(by=By.CLASS_NAME, value=name) instead\n",
      "  intro_text_box = intro_box.find_element_by_class_name(\"text_expand\")\n",
      "/var/folders/pr/p1vd3whs5tgdclytwz2t634h0000gn/T/ipykernel_2826/4001420278.py:49: DeprecationWarning: find_element_by_class_name is deprecated. Please use find_element(by=By.CLASS_NAME, value=name) instead\n",
      "  title_area = driver.find_element_by_class_name(\"area_text_title\")\n",
      "/var/folders/pr/p1vd3whs5tgdclytwz2t634h0000gn/T/ipykernel_2826/4001420278.py:50: DeprecationWarning: find_element_by_tag_name is deprecated. Please use find_element(by=By.TAG_NAME, value=name) instead\n",
      "  title = title_area.find_element_by_tag_name(\"strong\").text\n",
      "/var/folders/pr/p1vd3whs5tgdclytwz2t634h0000gn/T/ipykernel_2826/4001420278.py:52: DeprecationWarning: find_element_by_class_name is deprecated. Please use find_element(by=By.CLASS_NAME, value=name) instead\n",
      "  sub_title_area = driver.find_element_by_class_name(\"sub_title\")\n",
      "/var/folders/pr/p1vd3whs5tgdclytwz2t634h0000gn/T/ipykernel_2826/4001420278.py:53: DeprecationWarning: find_element_by_class_name is deprecated. Please use find_element(by=By.CLASS_NAME, value=name) instead\n",
      "  sub_title = sub_title_area.find_element_by_class_name(\"txt\").find_element_by_tag_name(\"a\").text\n",
      "/var/folders/pr/p1vd3whs5tgdclytwz2t634h0000gn/T/ipykernel_2826/4001420278.py:53: DeprecationWarning: find_element_by_tag_name is deprecated. Please use find_element(by=By.TAG_NAME, value=name) instead\n",
      "  sub_title = sub_title_area.find_element_by_class_name(\"txt\").find_element_by_tag_name(\"a\").text\n",
      "/var/folders/pr/p1vd3whs5tgdclytwz2t634h0000gn/T/ipykernel_2826/4001420278.py:55: DeprecationWarning: find_element_by_class_name is deprecated. Please use find_element(by=By.CLASS_NAME, value=name) instead\n",
      "  intro_box = driver.find_element_by_class_name('intro_box')\n",
      "/var/folders/pr/p1vd3whs5tgdclytwz2t634h0000gn/T/ipykernel_2826/4001420278.py:56: DeprecationWarning: find_element_by_tag_name is deprecated. Please use find_element(by=By.TAG_NAME, value=name) instead\n",
      "  intro = intro_box.find_element_by_tag_name(\"p\").text\n"
     ]
    },
    {
     "ename": "TimeoutException",
     "evalue": "Message: \n",
     "output_type": "error",
     "traceback": [
      "\u001b[0;31m---------------------------------------------------------------------------\u001b[0m",
      "\u001b[0;31mTimeoutException\u001b[0m                          Traceback (most recent call last)",
      "\u001b[1;32m/Users/hangibaek/Desktop/develop/boostcamp_AI/lv3/final_project/emotion/play_crawler.ipynb Cell 3'\u001b[0m in \u001b[0;36m<cell line: 40>\u001b[0;34m()\u001b[0m\n\u001b[1;32m     <a href='vscode-notebook-cell:/Users/hangibaek/Desktop/develop/boostcamp_AI/lv3/final_project/emotion/play_crawler.ipynb#ch0000007?line=43'>44</a>\u001b[0m basic_info_url \u001b[39m=\u001b[39m driver\u001b[39m.\u001b[39mfind_element_by_xpath(\u001b[39m'\u001b[39m\u001b[39m//*[@id=\u001b[39m\u001b[39m\"\u001b[39m\u001b[39mmain_pack\u001b[39m\u001b[39m\"\u001b[39m\u001b[39m]/div[2]/div[1]/div[3]/div/div/ul/li[2]/a\u001b[39m\u001b[39m'\u001b[39m)\u001b[39m.\u001b[39mget_attribute(\u001b[39m'\u001b[39m\u001b[39mhref\u001b[39m\u001b[39m'\u001b[39m)\n\u001b[1;32m     <a href='vscode-notebook-cell:/Users/hangibaek/Desktop/develop/boostcamp_AI/lv3/final_project/emotion/play_crawler.ipynb#ch0000007?line=44'>45</a>\u001b[0m driver\u001b[39m.\u001b[39mget(basic_info_url)\n\u001b[0;32m---> <a href='vscode-notebook-cell:/Users/hangibaek/Desktop/develop/boostcamp_AI/lv3/final_project/emotion/play_crawler.ipynb#ch0000007?line=46'>47</a>\u001b[0m \u001b[39mif\u001b[39;00m driver\u001b[39m.\u001b[39;49mfind_elements_by_class_name(\u001b[39m'\u001b[39;49m\u001b[39mintro_box\u001b[39;49m\u001b[39m'\u001b[39;49m) \u001b[39m!=\u001b[39m []:\n\u001b[1;32m     <a href='vscode-notebook-cell:/Users/hangibaek/Desktop/develop/boostcamp_AI/lv3/final_project/emotion/play_crawler.ipynb#ch0000007?line=47'>48</a>\u001b[0m     \u001b[39m# print(driver.find_elements_by_class_name('intro_box'))\u001b[39;00m\n\u001b[1;32m     <a href='vscode-notebook-cell:/Users/hangibaek/Desktop/develop/boostcamp_AI/lv3/final_project/emotion/play_crawler.ipynb#ch0000007?line=48'>49</a>\u001b[0m     title_area \u001b[39m=\u001b[39m driver\u001b[39m.\u001b[39mfind_element_by_class_name(\u001b[39m\"\u001b[39m\u001b[39marea_text_title\u001b[39m\u001b[39m\"\u001b[39m)\n\u001b[1;32m     <a href='vscode-notebook-cell:/Users/hangibaek/Desktop/develop/boostcamp_AI/lv3/final_project/emotion/play_crawler.ipynb#ch0000007?line=49'>50</a>\u001b[0m     title \u001b[39m=\u001b[39m title_area\u001b[39m.\u001b[39mfind_element_by_tag_name(\u001b[39m\"\u001b[39m\u001b[39mstrong\u001b[39m\u001b[39m\"\u001b[39m)\u001b[39m.\u001b[39mtext\n",
      "File \u001b[0;32m~/opt/anaconda3/envs/final-project/lib/python3.8/site-packages/selenium/webdriver/remote/webdriver.py:789\u001b[0m, in \u001b[0;36mWebDriver.find_elements_by_class_name\u001b[0;34m(self, name)\u001b[0m\n\u001b[1;32m    <a href='file:///Users/hangibaek/opt/anaconda3/envs/final-project/lib/python3.8/site-packages/selenium/webdriver/remote/webdriver.py?line=768'>769</a>\u001b[0m \u001b[39m\"\"\"\u001b[39;00m\n\u001b[1;32m    <a href='file:///Users/hangibaek/opt/anaconda3/envs/final-project/lib/python3.8/site-packages/selenium/webdriver/remote/webdriver.py?line=769'>770</a>\u001b[0m \u001b[39mFinds elements by class name.\u001b[39;00m\n\u001b[1;32m    <a href='file:///Users/hangibaek/opt/anaconda3/envs/final-project/lib/python3.8/site-packages/selenium/webdriver/remote/webdriver.py?line=770'>771</a>\u001b[0m \n\u001b[0;32m   (...)\u001b[0m\n\u001b[1;32m    <a href='file:///Users/hangibaek/opt/anaconda3/envs/final-project/lib/python3.8/site-packages/selenium/webdriver/remote/webdriver.py?line=781'>782</a>\u001b[0m \u001b[39m        elements = driver.find_elements_by_class_name('foo')\u001b[39;00m\n\u001b[1;32m    <a href='file:///Users/hangibaek/opt/anaconda3/envs/final-project/lib/python3.8/site-packages/selenium/webdriver/remote/webdriver.py?line=782'>783</a>\u001b[0m \u001b[39m\"\"\"\u001b[39;00m\n\u001b[1;32m    <a href='file:///Users/hangibaek/opt/anaconda3/envs/final-project/lib/python3.8/site-packages/selenium/webdriver/remote/webdriver.py?line=783'>784</a>\u001b[0m warnings\u001b[39m.\u001b[39mwarn(\n\u001b[1;32m    <a href='file:///Users/hangibaek/opt/anaconda3/envs/final-project/lib/python3.8/site-packages/selenium/webdriver/remote/webdriver.py?line=784'>785</a>\u001b[0m     \u001b[39m\"\u001b[39m\u001b[39mfind_elements_by_class_name is deprecated. Please use find_elements(by=By.CLASS_NAME, value=name) instead\u001b[39m\u001b[39m\"\u001b[39m,\n\u001b[1;32m    <a href='file:///Users/hangibaek/opt/anaconda3/envs/final-project/lib/python3.8/site-packages/selenium/webdriver/remote/webdriver.py?line=785'>786</a>\u001b[0m     \u001b[39mDeprecationWarning\u001b[39;00m,\n\u001b[1;32m    <a href='file:///Users/hangibaek/opt/anaconda3/envs/final-project/lib/python3.8/site-packages/selenium/webdriver/remote/webdriver.py?line=786'>787</a>\u001b[0m     stacklevel\u001b[39m=\u001b[39m\u001b[39m2\u001b[39m,\n\u001b[1;32m    <a href='file:///Users/hangibaek/opt/anaconda3/envs/final-project/lib/python3.8/site-packages/selenium/webdriver/remote/webdriver.py?line=787'>788</a>\u001b[0m )\n\u001b[0;32m--> <a href='file:///Users/hangibaek/opt/anaconda3/envs/final-project/lib/python3.8/site-packages/selenium/webdriver/remote/webdriver.py?line=788'>789</a>\u001b[0m \u001b[39mreturn\u001b[39;00m \u001b[39mself\u001b[39;49m\u001b[39m.\u001b[39;49mfind_elements(by\u001b[39m=\u001b[39;49mBy\u001b[39m.\u001b[39;49mCLASS_NAME, value\u001b[39m=\u001b[39;49mname)\n",
      "File \u001b[0;32m~/opt/anaconda3/envs/final-project/lib/python3.8/site-packages/selenium/webdriver/remote/webdriver.py:1284\u001b[0m, in \u001b[0;36mWebDriver.find_elements\u001b[0;34m(self, by, value)\u001b[0m\n\u001b[1;32m   <a href='file:///Users/hangibaek/opt/anaconda3/envs/final-project/lib/python3.8/site-packages/selenium/webdriver/remote/webdriver.py?line=1279'>1280</a>\u001b[0m     value \u001b[39m=\u001b[39m \u001b[39m'\u001b[39m\u001b[39m[name=\u001b[39m\u001b[39m\"\u001b[39m\u001b[39m%s\u001b[39;00m\u001b[39m\"\u001b[39m\u001b[39m]\u001b[39m\u001b[39m'\u001b[39m \u001b[39m%\u001b[39m value\n\u001b[1;32m   <a href='file:///Users/hangibaek/opt/anaconda3/envs/final-project/lib/python3.8/site-packages/selenium/webdriver/remote/webdriver.py?line=1281'>1282</a>\u001b[0m \u001b[39m# Return empty list if driver returns null\u001b[39;00m\n\u001b[1;32m   <a href='file:///Users/hangibaek/opt/anaconda3/envs/final-project/lib/python3.8/site-packages/selenium/webdriver/remote/webdriver.py?line=1282'>1283</a>\u001b[0m \u001b[39m# See https://github.com/SeleniumHQ/selenium/issues/4555\u001b[39;00m\n\u001b[0;32m-> <a href='file:///Users/hangibaek/opt/anaconda3/envs/final-project/lib/python3.8/site-packages/selenium/webdriver/remote/webdriver.py?line=1283'>1284</a>\u001b[0m \u001b[39mreturn\u001b[39;00m \u001b[39mself\u001b[39;49m\u001b[39m.\u001b[39;49mexecute(Command\u001b[39m.\u001b[39;49mFIND_ELEMENTS, {\n\u001b[1;32m   <a href='file:///Users/hangibaek/opt/anaconda3/envs/final-project/lib/python3.8/site-packages/selenium/webdriver/remote/webdriver.py?line=1284'>1285</a>\u001b[0m     \u001b[39m'\u001b[39;49m\u001b[39musing\u001b[39;49m\u001b[39m'\u001b[39;49m: by,\n\u001b[1;32m   <a href='file:///Users/hangibaek/opt/anaconda3/envs/final-project/lib/python3.8/site-packages/selenium/webdriver/remote/webdriver.py?line=1285'>1286</a>\u001b[0m     \u001b[39m'\u001b[39;49m\u001b[39mvalue\u001b[39;49m\u001b[39m'\u001b[39;49m: value})[\u001b[39m'\u001b[39m\u001b[39mvalue\u001b[39m\u001b[39m'\u001b[39m] \u001b[39mor\u001b[39;00m []\n",
      "File \u001b[0;32m~/opt/anaconda3/envs/final-project/lib/python3.8/site-packages/selenium/webdriver/remote/webdriver.py:430\u001b[0m, in \u001b[0;36mWebDriver.execute\u001b[0;34m(self, driver_command, params)\u001b[0m\n\u001b[1;32m    <a href='file:///Users/hangibaek/opt/anaconda3/envs/final-project/lib/python3.8/site-packages/selenium/webdriver/remote/webdriver.py?line=427'>428</a>\u001b[0m response \u001b[39m=\u001b[39m \u001b[39mself\u001b[39m\u001b[39m.\u001b[39mcommand_executor\u001b[39m.\u001b[39mexecute(driver_command, params)\n\u001b[1;32m    <a href='file:///Users/hangibaek/opt/anaconda3/envs/final-project/lib/python3.8/site-packages/selenium/webdriver/remote/webdriver.py?line=428'>429</a>\u001b[0m \u001b[39mif\u001b[39;00m response:\n\u001b[0;32m--> <a href='file:///Users/hangibaek/opt/anaconda3/envs/final-project/lib/python3.8/site-packages/selenium/webdriver/remote/webdriver.py?line=429'>430</a>\u001b[0m     \u001b[39mself\u001b[39;49m\u001b[39m.\u001b[39;49merror_handler\u001b[39m.\u001b[39;49mcheck_response(response)\n\u001b[1;32m    <a href='file:///Users/hangibaek/opt/anaconda3/envs/final-project/lib/python3.8/site-packages/selenium/webdriver/remote/webdriver.py?line=430'>431</a>\u001b[0m     response[\u001b[39m'\u001b[39m\u001b[39mvalue\u001b[39m\u001b[39m'\u001b[39m] \u001b[39m=\u001b[39m \u001b[39mself\u001b[39m\u001b[39m.\u001b[39m_unwrap_value(\n\u001b[1;32m    <a href='file:///Users/hangibaek/opt/anaconda3/envs/final-project/lib/python3.8/site-packages/selenium/webdriver/remote/webdriver.py?line=431'>432</a>\u001b[0m         response\u001b[39m.\u001b[39mget(\u001b[39m'\u001b[39m\u001b[39mvalue\u001b[39m\u001b[39m'\u001b[39m, \u001b[39mNone\u001b[39;00m))\n\u001b[1;32m    <a href='file:///Users/hangibaek/opt/anaconda3/envs/final-project/lib/python3.8/site-packages/selenium/webdriver/remote/webdriver.py?line=432'>433</a>\u001b[0m     \u001b[39mreturn\u001b[39;00m response\n",
      "File \u001b[0;32m~/opt/anaconda3/envs/final-project/lib/python3.8/site-packages/selenium/webdriver/remote/errorhandler.py:247\u001b[0m, in \u001b[0;36mErrorHandler.check_response\u001b[0;34m(self, response)\u001b[0m\n\u001b[1;32m    <a href='file:///Users/hangibaek/opt/anaconda3/envs/final-project/lib/python3.8/site-packages/selenium/webdriver/remote/errorhandler.py?line=244'>245</a>\u001b[0m         alert_text \u001b[39m=\u001b[39m value[\u001b[39m'\u001b[39m\u001b[39malert\u001b[39m\u001b[39m'\u001b[39m]\u001b[39m.\u001b[39mget(\u001b[39m'\u001b[39m\u001b[39mtext\u001b[39m\u001b[39m'\u001b[39m)\n\u001b[1;32m    <a href='file:///Users/hangibaek/opt/anaconda3/envs/final-project/lib/python3.8/site-packages/selenium/webdriver/remote/errorhandler.py?line=245'>246</a>\u001b[0m     \u001b[39mraise\u001b[39;00m exception_class(message, screen, stacktrace, alert_text)  \u001b[39m# type: ignore[call-arg]  # mypy is not smart enough here\u001b[39;00m\n\u001b[0;32m--> <a href='file:///Users/hangibaek/opt/anaconda3/envs/final-project/lib/python3.8/site-packages/selenium/webdriver/remote/errorhandler.py?line=246'>247</a>\u001b[0m \u001b[39mraise\u001b[39;00m exception_class(message, screen, stacktrace)\n",
      "\u001b[0;31mTimeoutException\u001b[0m: Message: \n"
     ]
    }
   ],
   "source": [
    "base_url = \"https://search.naver.com/search.naver?where=nexearch&sm=tab_etc&qvt=0&query=공연\" #네이버 공연 정보\n",
    "driver.get(base_url)\n",
    "\n",
    "# 동적 웹에서 가려져 있는 공연 정보 리스트를 모두 표시하기 위해 마지막 페이지까지 click을 진행\n",
    "paging = driver.find_element_by_class_name(\"cm_paging_area\")\n",
    "max_page = driver.find_element_by_class_name(\"cm_paging_area\").find_element_by_class_name(\"pgs\").find_element_by_class_name(\"npgs\").find_element_by_class_name(\"_total\").text\n",
    "max_page = int(max_page)\n",
    "\n",
    "for i in range(max_page-1):\n",
    "    paging = driver.find_element_by_class_name(\"cm_paging_area\")\n",
    "    pgs = paging.find_element_by_class_name(\"pgs\")\n",
    "    next_page_button = pgs.find_element_by_class_name(\"pg_next\")\n",
    "    next_page_button.send_keys(Keys.ENTER)\n",
    "    \n",
    "    # cur_page = driver.find_element_by_class_name(\"npgs_now\").text \n",
    "\n",
    "# 각 page의 element를 저장\n",
    "info = driver.find_element_by_class_name(\"_info\")\n",
    "list_image_info = info.find_element_by_class_name(\"list_image_info\")\n",
    "pages = list_image_info.find_elements_by_tag_name(\"ul\")\n",
    "print(len(pages))\n",
    "\n",
    "# 각 page의 공연 정보들을 취합\n",
    "play_urls = []\n",
    "for page in pages:\n",
    "    try:\n",
    "        temp_play_urls = page.find_elements_by_tag_name(\"li\")\n",
    "        for temp_play_url in temp_play_urls:\n",
    "            play_url = temp_play_url.find_element_by_tag_name(\"a\").get_attribute(\"href\")\n",
    "            play_urls.append(play_url)\n",
    "    except StaleElementReferenceException:\n",
    "        continue\n",
    "\n",
    "# 모든 공연 정보의 개수. 최종적으로 추출될 공연 정보의 개수와는 차이가 있습니다. (소개글 등이 존재하지 않는 공연 정보는 제외하기 때문)    \n",
    "print(len(play_urls))\n",
    "\n",
    "# 공연명, 공연 종류, 공연 소개글을 저장\n",
    "plays = []\n",
    "for play_url in play_urls:\n",
    "    try:\n",
    "        driver.get(play_url)\n",
    "        # time.sleep(1)\n",
    "        basic_info_url = driver.find_element_by_xpath('//*[@id=\"main_pack\"]/div[2]/div[1]/div[3]/div/div/ul/li[2]/a').get_attribute('href')\n",
    "        driver.get(basic_info_url)\n",
    "        \n",
    "        if driver.find_elements_by_class_name('intro_box') != []:\n",
    "            title_area = driver.find_element_by_class_name(\"area_text_title\")\n",
    "            title = title_area.find_element_by_tag_name(\"strong\").text\n",
    "            \n",
    "            sub_title_area = driver.find_element_by_class_name(\"sub_title\")\n",
    "            sub_title = sub_title_area.find_element_by_class_name(\"txt\").find_element_by_tag_name(\"a\").text\n",
    "\n",
    "            intro_box = driver.find_element_by_class_name('intro_box')\n",
    "            intro = intro_box.find_element_by_tag_name(\"p\").text\n",
    "\n",
    "        elif driver.find_elements_by_class_name(\"detail_info\") != []:\n",
    "            title_area = driver.find_element_by_class_name(\"area_text_title\")\n",
    "            title = title_area.find_element_by_tag_name(\"strong\").text\n",
    "\n",
    "            sub_title_area = driver.find_element_by_class_name(\"sub_title\")\n",
    "            sub_title = sub_title_area.find_element_by_class_name(\"txt\").find_element_by_tag_name(\"a\").text\n",
    "\n",
    "            intro_box = driver.find_element_by_class_name(\"detail_info\")\n",
    "            intro_text_box = intro_box.find_element_by_class_name(\"text_expand\")\n",
    "            intro = intro_text_box.find_element_by_class_name(\"desc\")\n",
    "\n",
    "        data = {'title': title, 'sub_title': sub_title, 'intro': intro}\n",
    "        plays.append(data)\n",
    "    except NoSuchElementException, TimeoutException:\n",
    "        continue\n",
    "plays\n",
    "\n",
    "    \n",
    "\n"
   ]
  },
  {
   "cell_type": "code",
   "execution_count": 131,
   "metadata": {},
   "outputs": [
    {
     "name": "stdout",
     "output_type": "stream",
     "text": [
      "330\n"
     ]
    }
   ],
   "source": [
    "print(len(plays))"
   ]
  },
  {
   "cell_type": "code",
   "execution_count": null,
   "metadata": {},
   "outputs": [],
   "source": [
    "play_df = pd.DataFrame(plays)\n",
    "play_df"
   ]
  },
  {
   "cell_type": "code",
   "execution_count": null,
   "metadata": {},
   "outputs": [],
   "source": [
    "play_df.to_csv(\"plays.csv\", index=False)"
   ]
  }
 ],
 "metadata": {
  "interpreter": {
   "hash": "6dd46322cd1a816178a19e1d7654532b617a00c298d45988d63f8d13b31f1fbb"
  },
  "kernelspec": {
   "display_name": "Python 3.8.5 ('final-project')",
   "language": "python",
   "name": "python3"
  },
  "language_info": {
   "codemirror_mode": {
    "name": "ipython",
    "version": 3
   },
   "file_extension": ".py",
   "mimetype": "text/x-python",
   "name": "python",
   "nbconvert_exporter": "python",
   "pygments_lexer": "ipython3",
   "version": "3.8.5"
  },
  "orig_nbformat": 4
 },
 "nbformat": 4,
 "nbformat_minor": 2
}
